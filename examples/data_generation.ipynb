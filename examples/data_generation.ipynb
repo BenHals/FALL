{
 "cells": [
  {
   "cell_type": "markdown",
   "metadata": {},
   "source": [
    "# Data Stream Construction"
   ]
  },
  {
   "cell_type": "markdown",
   "metadata": {},
   "source": [
    "In order to evaluate an adaptive learning system, it is valuable to use constructed data streams with _known_ concept drift dynamics.\n",
    "FALL provides tools to construct such data streams, in order to test and evaluate adaptive learning systems."
   ]
  },
  {
   "cell_type": "markdown",
   "metadata": {},
   "source": [
    "## Data Generators\n",
    "\n",
    "The first step to constructing a data stream is the sources of observations for each concept.\n",
    "\n",
    "A data stream can be thought of as a series of contiguous segments, where within each segment observations are drawn from a stationary joint distribution, the _concept_. A data generator defines the joint distribution for a concept, and enables us to draw new observations from it.\n",
    "\n",
    "FALL follows the data generator interface defined in River, enabling the range of data generators implemented in the River package to be used seamlessly."
   ]
  },
  {
   "cell_type": "code",
   "execution_count": 1,
   "metadata": {},
   "outputs": [
    {
     "name": "stdout",
     "output_type": "stream",
     "text": [
      "{'x_num_0': 0.6793705465075165, 'x_num_1': 0.23054735820551753, 'x_num_2': 0.14041524327295274, 'x_num_3': 0.23362958799435518, 'x_num_4': 0.07378234256396232, 'x_cat_0': 4, 'x_cat_1': 2, 'x_cat_2': 1, 'x_cat_3': 3, 'x_cat_4': 0} 1\n",
      "{'x_num_0': 0.2985071915299543, 'x_num_1': 0.06126922433124782, 'x_num_2': 0.6804413900190872, 'x_num_3': 0.5474291418014934, 'x_num_4': 0.3445349001281215, 'x_cat_0': 1, 'x_cat_1': 0, 'x_cat_2': 3, 'x_cat_3': 1, 'x_cat_4': 4} 0\n",
      "{'x_num_0': 0.5601039404070363, 'x_num_1': 0.565814303530752, 'x_num_2': 0.2439851311823823, 'x_num_3': 0.7428466255752031, 'x_num_4': 0.5021741707120074, 'x_cat_0': 2, 'x_cat_1': 3, 'x_cat_2': 3, 'x_cat_3': 2, 'x_cat_4': 1} 1\n",
      "{'x_num_0': 0.012503561209797565, 'x_num_1': 0.36533168221638423, 'x_num_2': 0.6476553613700106, 'x_num_3': 0.9044029888752829, 'x_num_4': 0.27944480801738414, 'x_cat_0': 2, 'x_cat_1': 3, 'x_cat_2': 2, 'x_cat_3': 1, 'x_cat_4': 4} 0\n",
      "{'x_num_0': 0.3755099664921965, 'x_num_1': 0.20873682846233788, 'x_num_2': 0.5397952573059641, 'x_num_3': 0.9403384521008629, 'x_num_4': 0.8915653543262074, 'x_cat_0': 3, 'x_cat_1': 4, 'x_cat_2': 3, 'x_cat_3': 4, 'x_cat_4': 3} 1\n"
     ]
    }
   ],
   "source": [
    "# We can directly use synthetic data generators implemented in river.datasets.synth\n",
    "# or real datasets.\n",
    "from river.datasets.synth.random_tree import RandomTree\n",
    "\n",
    "\n",
    "random_tree_generator = RandomTree()\n",
    "\n",
    "# A data generator enables us to draw X,y samples from a joint distribution defining a concept.\n",
    "for X,y in random_tree_generator.take(5):\n",
    "    print(X, y)\n"
   ]
  },
  {
   "cell_type": "code",
   "execution_count": 2,
   "metadata": {},
   "outputs": [
    {
     "name": "stdout",
     "output_type": "stream",
     "text": [
      "{'x_num_0': 0.8432710787178637, 'x_num_1': 0.8026694890827261, 'x_num_2': 0.06975773309370858, 'x_num_3': 0.46973382250066087, 'x_num_4': 0.8382262719365267, 'x_cat_0': 2, 'x_cat_1': 2, 'x_cat_2': 4, 'x_cat_3': 1, 'x_cat_4': 1} 0\n",
      "{'x_num_0': 0.9298810667572504, 'x_num_1': 0.9454741339663869, 'x_num_2': 0.27216582142374457, 'x_num_3': 0.7449439811304474, 'x_num_4': 0.6637648858876267, 'x_cat_0': 4, 'x_cat_1': 4, 'x_cat_2': 1, 'x_cat_3': 2, 'x_cat_4': 1} 1\n",
      "{'x_num_0': 0.2088041586120004, 'x_num_1': 0.30847639227013157, 'x_num_2': 0.7499996381854018, 'x_num_3': 0.24269549875275886, 'x_num_4': 0.7646204645226706, 'x_cat_0': 2, 'x_cat_1': 3, 'x_cat_2': 2, 'x_cat_3': 3, 'x_cat_4': 0} 1\n",
      "{'x_num_0': 0.8489186193850758, 'x_num_1': 0.3358253242398608, 'x_num_2': 0.9642655429673557, 'x_num_3': 0.26092345310195153, 'x_num_4': 0.7899930456286354, 'x_cat_0': 2, 'x_cat_1': 0, 'x_cat_2': 2, 'x_cat_3': 4, 'x_cat_4': 1} 0\n",
      "{'x_num_0': 0.4335358518018484, 'x_num_1': 0.6983147583598981, 'x_num_2': 0.8856872072922647, 'x_num_3': 0.18807964562191704, 'x_num_4': 0.028100848651400945, 'x_cat_0': 0, 'x_cat_1': 0, 'x_cat_2': 1, 'x_cat_3': 0, 'x_cat_4': 3} 0\n"
     ]
    }
   ],
   "source": [
    "# In the case of the RandomTree generator, different seed values generate different\n",
    "# decision trees for labelling data, defining different decicion boundaries p(y|X)\n",
    "# and thus different concepts. p(X) is stationary.\n",
    "random_tree_generator2 = RandomTree(seed_tree=5)\n",
    "\n",
    "for X,y in random_tree_generator2.take(5):\n",
    "    print(X, y)"
   ]
  },
  {
   "cell_type": "markdown",
   "metadata": {},
   "source": [
    "### FALL data generators\n",
    "\n",
    "In order to accurately evaluate adaptive learning systems, it is important that the data we use for evaluation replicates the distributions we expect to see in the real world.\n",
    "\n",
    "FALL implements a number of data generators which accurately mimic distribution patterns seen in real-world datasets.\n",
    "For example, while many existing synthetic data generators implement change in p(y|X) between concepts, in real-world data we often see corresponding change in p(X). This is important, as it enables unsupervised methods to work. FALL implements synthetic data generators which generate concepts which change in both p(y|X) and p(X), in order to accurately test and evaluate any adaptive learning system."
   ]
  },
  {
   "cell_type": "code",
   "execution_count": 3,
   "metadata": {},
   "outputs": [
    {
     "name": "stdout",
     "output_type": "stream",
     "text": [
      "{'x_num_0': 2295.0, 'x_num_1': 2295.0, 'x_num_2': 2295.0, 'x_num_3': 2295.0, 'x_num_4': 2295.0, 'x_num_5': 2295.0, 'x_num_6': 2295.0, 'x_num_7': 2295.0, 'x_num_8': 2295.0, 'x_num_9': 2295.0, 'x_num_10': 2295.0, 'x_num_11': 1609.306934897402, 'x_num_12': 2295.0, 'x_num_13': 1492.750363033247, 'x_num_14': 1852.0046422379487, 'x_num_15': 1773.5241970232073} 19\n",
      "{'x_num_0': 2295.0, 'x_num_1': 2295.0, 'x_num_2': 2295.0, 'x_num_3': 2295.0, 'x_num_4': 2295.0, 'x_num_5': 2295.0, 'x_num_6': 2295.0, 'x_num_7': 2295.0, 'x_num_8': 2295.0, 'x_num_9': 2295.0, 'x_num_10': 2295.0, 'x_num_11': 1609.306934897402, 'x_num_12': 2295.0, 'x_num_13': 1492.750363033247, 'x_num_14': 1852.0046422379487, 'x_num_15': 1773.5241970232073} 0\n",
      "{'x_num_0': 399.7346313726151, 'x_num_1': 246.82557238404928, 'x_num_2': 870.9273004644259, 'x_num_3': 287.4955681040475, 'x_num_4': 362.77043705312155, 'x_num_5': 528.3313696506385, 'x_num_6': 620.579642384494, 'x_num_7': 174.97365425940592, 'x_num_8': 0.0, 'x_num_9': 464.90149357789625, 'x_num_10': 1189.7703766592101, 'x_num_11': 530.9333474643122, 'x_num_12': 0.0, 'x_num_13': 573.5405209764967, 'x_num_14': 874.9815512104288, 'x_num_15': 609.1238914812674} 12\n",
      "{'x_num_0': 704.9554882957514, 'x_num_1': 492.93614512813815, 'x_num_2': 0.0, 'x_num_3': 495.76144035410715, 'x_num_4': 679.3741510242821, 'x_num_5': 402.7987296351918, 'x_num_6': 291.6605170701429, 'x_num_7': 400.1986425787321, 'x_num_8': 0.0, 'x_num_9': 302.4994635332312, 'x_num_10': 799.7911614820938, 'x_num_11': 349.46892025017655, 'x_num_12': 0.0, 'x_num_13': 908.9995461121077, 'x_num_14': 652.0970485776687, 'x_num_15': 992.9856945996971} 5\n",
      "{'x_num_0': 305.11060688869446, 'x_num_1': 435.7530521226474, 'x_num_2': 966.013926713846, 'x_num_3': 415.5891271914894, 'x_num_4': 307.0929078146746, 'x_num_5': 693.0193500625132, 'x_num_6': 874.9815512104288, 'x_num_7': 757.0502137610355, 'x_num_8': 0.0, 'x_num_9': 375.81348459429415, 'x_num_10': 970.2547115275826, 'x_num_11': 377.96748375701134, 'x_num_12': 0.0, 'x_num_13': 1336.094683262899, 'x_num_14': 434.73136571844583, 'x_num_15': 1371.1346694709198} 17\n"
     ]
    }
   ],
   "source": [
    "# Data generators can be found in the data.synthetic module.\n",
    "from fall.data.synthetic.wind_sim import WindSimGenerator\n",
    "\n",
    "# The interface is the same as the generators implemented in River, enabling seamless integration.\n",
    "stream = WindSimGenerator()\n",
    "\n",
    "for x, y in stream.take(5):\n",
    "    print(x, y)"
   ]
  },
  {
   "cell_type": "markdown",
   "metadata": {},
   "source": [
    "The <WindSimGenerator> simulates a real-world air pollution inference task.\n",
    "The goal is to infer the air quality levels at a central sensor, based on the current and previous readings taken from surrounding sensors.\n",
    "\n",
    "Concepts here are determined by different locations and characteristics of pollution emitters which determine how pollution is created in the environment, as well as the wind characteristics which determine how pollution is transmitted over time."
   ]
  },
  {
   "cell_type": "code",
   "execution_count": 4,
   "metadata": {},
   "outputs": [
    {
     "data": {
      "application/vnd.jupyter.widget-view+json": {
       "model_id": "4f84b2dfb7fe408c8808f9254edffac6",
       "version_major": 2,
       "version_minor": 0
      },
      "text/plain": [
       "interactive(children=(IntSlider(value=1, description='x', max=1000, min=1), Output()), _dom_classes=('widget-i…"
      ]
     },
     "metadata": {},
     "output_type": "display_data"
    }
   ],
   "source": [
    "import matplotlib.pyplot as plt\n",
    "import ipywidgets as widgets\n",
    "\n",
    "stream1 = WindSimGenerator()\n",
    "stream_iter1 = iter(stream1)\n",
    "stream2 = WindSimGenerator(concept=2)\n",
    "stream_iter2 = iter(stream2)\n",
    "\n",
    "@widgets.interact(x=(1, 1000))\n",
    "def f(x=1):\n",
    "    next(stream_iter1)\n",
    "    img = stream1.get_last_image()\n",
    "    plt.imshow(img)\n",
    "    \n",
    "    next(stream_iter2)\n",
    "    img = stream2.get_last_image()\n",
    "    plt.imshow(img)\n",
    "    plt.show()"
   ]
  },
  {
   "cell_type": "markdown",
   "metadata": {},
   "source": [
    "Finally, FALL provides a `Concept` object which can be used to wrap a data generator into a reusable concept."
   ]
  },
  {
   "cell_type": "code",
   "execution_count": 5,
   "metadata": {},
   "outputs": [
    {
     "name": "stdout",
     "output_type": "stream",
     "text": [
      "{'x_num_0': 0.7742632793377398, 'x_num_1': 0.7071822440538523, 'x_num_2': 0.8914377942873839, 'x_num_3': 0.2909460885621423, 'x_num_4': 0.675078030788545, 'x_cat_0': 1, 'x_cat_1': 1, 'x_cat_2': 0, 'x_cat_3': 0, 'x_cat_4': 2} 1\n",
      "{'x_num_0': 0.3229562995898926, 'x_num_1': 0.6116888338228702, 'x_num_2': 0.709894348278955, 'x_num_3': 0.3533328532120359, 'x_num_4': 0.8308362880892699, 'x_cat_0': 4, 'x_cat_1': 4, 'x_cat_2': 3, 'x_cat_3': 1, 'x_cat_4': 0} 0\n"
     ]
    }
   ],
   "source": [
    "from fall.data.utils import Concept\n",
    "\n",
    "data_generator = RandomTree()\n",
    "# An optional limit can be set on the number of observations able to be drawn.\n",
    "# This defaults to -1 to enable an unbounded amount of observations.\n",
    "concept = Concept(data=data_generator, name=\"c0\", max_n=-1)\n",
    "\n",
    "for (X, y) in concept.data.take(2):\n",
    "    print(X, y)"
   ]
  },
  {
   "cell_type": "markdown",
   "metadata": {},
   "source": [
    "## Concept Drift Pattern\n",
    "\n",
    "Once individual concepts have been created, the next step is to create the data stream itself.\n",
    "\n",
    "The important factor here is the pattern of concept drift that will exist in the stream. For example, will concepts reoccur? Will this recurrence be periodic, or random?\n",
    "The pattern of concept drift in the stream will have different impacts on different systems, so it is important to evaluate with patterns similar to what will occur in reality.\n",
    "\n",
    "FALL provides tools to generate different patterns which may be found in the real world."
   ]
  },
  {
   "cell_type": "code",
   "execution_count": 6,
   "metadata": {},
   "outputs": [
    {
     "data": {
      "text/plain": [
       "[0, 1, 2, 3, 0, 1, 2, 3, 0, 1, 2, 3, 0, 1, 2, 3, 0, 1, 2, 3]"
      ]
     },
     "execution_count": 6,
     "metadata": {},
     "output_type": "execute_result"
    }
   ],
   "source": [
    "from fall.data.transition_patterns import circular_transition_pattern\n",
    "\n",
    "n_repeats = 5\n",
    "pattern = circular_transition_pattern(\n",
    "    n_concepts=4,\n",
    "    n_repeats=n_repeats, \n",
    "    forward_proportion=1.0,\n",
    "    n_forward=1, \n",
    "    noise=0.0,\n",
    "    seed=42,\n",
    "    shuffle_order=False)\n",
    "\n",
    "pattern"
   ]
  },
  {
   "cell_type": "markdown",
   "metadata": {},
   "source": [
    "FALL defines a transition pattern as a list of indexes into the set of available concepts. \n",
    "\n",
    "The `circular_transition_pattern` defines a periodic concept drift pattern, where concept reoccur in a circular pattern.\n",
    "Parameters `n_concepts` and `n_repeats` define the length of the pattern, while parameters `forward_proportion`, `n_forward` and `noise` define the level of noise in the stream.\n",
    "Specifically, `n_forward` and `forward_proportion` enable the circular pattern to skip forward `n_forward` in the cycle with `forward_proportion` probability at each step, while `noise` allows uniform random transitions to any concept.\n"
   ]
  },
  {
   "cell_type": "code",
   "execution_count": 7,
   "metadata": {},
   "outputs": [
    {
     "data": {
      "application/vnd.jupyter.widget-view+json": {
       "model_id": "2c71cb7163fb48e1abe986e9b17b738a",
       "version_major": 2,
       "version_minor": 0
      },
      "text/plain": [
       "interactive(children=(IntSlider(value=1, description='x', max=10, min=1), Output()), _dom_classes=('widget-int…"
      ]
     },
     "metadata": {},
     "output_type": "display_data"
    }
   ],
   "source": [
    "# With the forward proportion and n_forward set, the pattern has the chance to skip forward a number of steps.\n",
    "@widgets.interact(x=(1, 10))\n",
    "def f(x=1):\n",
    "    pattern = circular_transition_pattern(\n",
    "        n_concepts=10,\n",
    "        n_repeats=3, \n",
    "        forward_proportion=1/x,\n",
    "        n_forward=x, \n",
    "        noise=0.0,\n",
    "        seed=42,\n",
    "        shuffle_order=False)\n",
    "\n",
    "    return pattern"
   ]
  },
  {
   "cell_type": "code",
   "execution_count": 8,
   "metadata": {},
   "outputs": [
    {
     "data": {
      "application/vnd.jupyter.widget-view+json": {
       "model_id": "3b41771b42794d05a25ab372327e090c",
       "version_major": 2,
       "version_minor": 0
      },
      "text/plain": [
       "interactive(children=(IntSlider(value=0, description='noise', max=10), Output()), _dom_classes=('widget-intera…"
      ]
     },
     "metadata": {},
     "output_type": "display_data"
    },
    {
     "data": {
      "application/vnd.jupyter.widget-view+json": {
       "model_id": "3b41771b42794d05a25ab372327e090c",
       "version_major": 2,
       "version_minor": 0
      },
      "text/plain": [
       "interactive(children=(IntSlider(value=0, description='noise', max=10), Output()), _dom_classes=('widget-intera…"
      ]
     },
     "metadata": {},
     "output_type": "display_data"
    }
   ],
   "source": [
    "# With noise set to 1.0, the pattern is random not cyclic.\n",
    "@widgets.interact(noise=(0, 10))\n",
    "def f(noise=0):\n",
    "    pattern = circular_transition_pattern(\n",
    "        n_concepts=5,\n",
    "        n_repeats=4, \n",
    "        forward_proportion=1.0,\n",
    "        n_forward=1, \n",
    "        noise=0.1*noise,\n",
    "        seed=42,\n",
    "        shuffle_order=False)\n",
    "\n",
    "    return pattern"
   ]
  },
  {
   "cell_type": "markdown",
   "metadata": {},
   "source": [
    "Given the concept transition pattern, we can construct a set of `ConceptSegments`, which define contiguous segments of a data stream.\n",
    "\n",
    "Each concept segment is described by the concept id, the recurrence id, and the range of observations the segment covers."
   ]
  },
  {
   "cell_type": "code",
   "execution_count": 9,
   "metadata": {},
   "outputs": [
    {
     "data": {
      "text/plain": [
       "[0r0:0->999,\n",
       " 1r0:1000->1999,\n",
       " 2r0:2000->2999,\n",
       " 3r0:3000->3999,\n",
       " 0r1:4000->4999,\n",
       " 1r1:5000->5999,\n",
       " 2r1:6000->6999,\n",
       " 3r1:7000->7999,\n",
       " 0r2:8000->8999,\n",
       " 1r2:9000->9999,\n",
       " 2r2:10000->10999,\n",
       " 3r2:11000->11999,\n",
       " 0r3:12000->12999,\n",
       " 1r3:13000->13999,\n",
       " 2r3:14000->14999,\n",
       " 3r3:15000->15999,\n",
       " 0r4:16000->16999,\n",
       " 1r4:17000->17999,\n",
       " 2r4:18000->18999,\n",
       " 3r4:19000->19999]"
      ]
     },
     "execution_count": 9,
     "metadata": {},
     "output_type": "execute_result"
    }
   ],
   "source": [
    "from fall.data.datastream import make_stream_concepts\n",
    "s0 = WindSimGenerator(concept=0)\n",
    "s1 = WindSimGenerator(concept=1)\n",
    "s2 = WindSimGenerator(concept=2)\n",
    "s3 = WindSimGenerator(concept=3)\n",
    "c0 = Concept(s0, \"0\")\n",
    "c1 = Concept(s1, \"1\")\n",
    "c2 = Concept(s2, \"2\")\n",
    "c3 = Concept(s3, \"3\")\n",
    "\n",
    "datastream_segments = make_stream_concepts([c0, c1, c2, c3], pattern, max_segment_length=1000)\n",
    "datastream_segments"
   ]
  },
  {
   "cell_type": "markdown",
   "metadata": {},
   "source": [
    "FALL provides tools to visualize the concept segments which make up a stream created in this way."
   ]
  },
  {
   "cell_type": "code",
   "execution_count": 10,
   "metadata": {},
   "outputs": [
    {
     "data": {
      "image/png": "[encoded data removed]",
      "text/plain": [
       "<Figure size 1500x150 with 1 Axes>"
      ]
     },
     "metadata": {},
     "output_type": "display_data"
    }
   ],
   "source": [
    "from fall.evaluation.context_inference import plot_ground_truth_contexts\n",
    "\n",
    "plot_ground_truth_contexts(datastream_segments)"
   ]
  },
  {
   "cell_type": "code",
   "execution_count": 11,
   "metadata": {},
   "outputs": [
    {
     "data": {
      "application/vnd.jupyter.widget-view+json": {
       "model_id": "ccd7b95b261a43f8974a0a2835758ef5",
       "version_major": 2,
       "version_minor": 0
      },
      "text/plain": [
       "interactive(children=(IntSlider(value=0, description='noise', max=10), Output()), _dom_classes=('widget-intera…"
      ]
     },
     "metadata": {},
     "output_type": "display_data"
    }
   ],
   "source": [
    "import numpy as np\n",
    "@widgets.interact(noise=(0, 10))\n",
    "def f(noise=0):\n",
    "    for i in range(3):\n",
    "        random_pattern = circular_transition_pattern(4, 5, forward_proportion=1.0, n_forward=1, noise=0.1*noise)\n",
    "        datastream_segments_random = make_stream_concepts([c0, c1, c2, c3], random_pattern, max_segment_length=1000, segment_lengths=(np.random.randn(4*5) * 250) + 750)\n",
    "        plot_ground_truth_contexts(datastream_segments_random)"
   ]
  },
  {
   "cell_type": "markdown",
   "metadata": {},
   "source": [
    "Finally, FALL defines a `ConceptSegmentDataStream` class which handles drawing a new observation from the stream based on the set of stream concepts.\n",
    "\n",
    "The `ConceptSegmentDataStream` class defines the same interface as the base data generators, so a system can consider the stream as a single source of data.\n",
    "\n",
    "The final parameter for constructing a concept segment data stream is to define the width of concept drift between segments. Concept drift can be _abrupt_ when concept drift occurs instantly, or _gradual_ where concept drift occurs over a number of observations.\n",
    "\n",
    "The `ConceptSegmentDataStream` class takes a drift width parameter, where a drift width can be specified for each drift as a list, or for all drifts as an int. If a drift width is 0 then drift will be abrupt, while if the drift width is > 0 then the drift will be gradual.\n",
    "\n",
    "Under the hood, gradual drift is specified using a sigmoid to define the probability of selecting an observation from the new concept. After `drift_width` observations, the probability is 1."
   ]
  },
  {
   "cell_type": "code",
   "execution_count": 12,
   "metadata": {},
   "outputs": [],
   "source": [
    "from fall.data.datastream import ConceptSegmentDataStream\n",
    "\n",
    "s0 = WindSimGenerator(concept=0)\n",
    "s1 = WindSimGenerator(concept=1)\n",
    "s2 = WindSimGenerator(concept=2)\n",
    "s3 = WindSimGenerator(concept=3)\n",
    "c0 = Concept(s0, \"0\")\n",
    "c1 = Concept(s1, \"1\")\n",
    "c2 = Concept(s2, \"2\")\n",
    "c3 = Concept(s3, \"3\")\n",
    "\n",
    "n_repeats = 30\n",
    "pattern = circular_transition_pattern(4, n_repeats, 1.0, 1, 0.0, shuffle_order=False)\n",
    "\n",
    "segment_length = 1000\n",
    "concept_segments = make_stream_concepts([c0, c1, c2, c3], pattern, segment_length)\n",
    "\n",
    "seed = 42\n",
    "drift_width = 0\n",
    "datastream = ConceptSegmentDataStream(concept_segments, drift_width, seed)"
   ]
  },
  {
   "cell_type": "code",
   "execution_count": 13,
   "metadata": {},
   "outputs": [
    {
     "name": "stdout",
     "output_type": "stream",
     "text": [
      "{'x_num_0': 2295.0, 'x_num_1': 2295.0, 'x_num_2': 2295.0, 'x_num_3': 2295.0, 'x_num_4': 2295.0, 'x_num_5': 2295.0, 'x_num_6': 2295.0, 'x_num_7': 2295.0, 'x_num_8': 2295.0, 'x_num_9': 2295.0, 'x_num_10': 2295.0, 'x_num_11': 4431.340167049368, 'x_num_12': 2295.0, 'x_num_13': 2535.7534389345988, 'x_num_14': 4448.071239924258, 'x_num_15': 2478.559326101099} 20\n",
      "{'x_num_0': 2295.0, 'x_num_1': 2295.0, 'x_num_2': 2295.0, 'x_num_3': 2295.0, 'x_num_4': 2295.0, 'x_num_5': 2295.0, 'x_num_6': 2295.0, 'x_num_7': 2295.0, 'x_num_8': 2295.0, 'x_num_9': 2295.0, 'x_num_10': 2295.0, 'x_num_11': 4431.340167049368, 'x_num_12': 2295.0, 'x_num_13': 2535.7534389345988, 'x_num_14': 4448.071239924258, 'x_num_15': 2478.559326101099} 20\n",
      "{'x_num_0': 5106.080621495247, 'x_num_1': 5778.5428531291855, 'x_num_2': 5647.744233150124, 'x_num_3': 6619.914372121825, 'x_num_4': 5437.006466110004, 'x_num_5': 4386.849952823586, 'x_num_6': 8953.153544763145, 'x_num_7': 4336.482956688074, 'x_num_8': 576.190678168808, 'x_num_9': 9111.952498856372, 'x_num_10': 6434.690297620219, 'x_num_11': 7956.840396107609, 'x_num_12': 2034.9052789844682, 'x_num_13': 2548.1083604120913, 'x_num_14': 8783.042148508224, 'x_num_15': 2810.513310396135} 20\n",
      "{'x_num_0': 4941.414327594797, 'x_num_1': 5872.267867253832, 'x_num_2': 6055.313635120117, 'x_num_3': 5743.659552210767, 'x_num_4': 5452.691119200165, 'x_num_5': 4326.80806885294, 'x_num_6': 8173.140991649892, 'x_num_7': 4496.677962479381, 'x_num_8': 702.6811567203827, 'x_num_9': 11066.808540035749, 'x_num_10': 6915.803299388883, 'x_num_11': 9706.037771654916, 'x_num_12': 2077.1583228749473, 'x_num_13': 2565.059689968245, 'x_num_14': 7705.260091134358, 'x_num_15': 2582.305693005471} 20\n",
      "{'x_num_0': 4943.516090746645, 'x_num_1': 7171.303988692787, 'x_num_2': 6434.690297620219, 'x_num_3': 6579.877175397126, 'x_num_4': 4891.405281605065, 'x_num_5': 4305.303957856942, 'x_num_6': 8196.067615960277, 'x_num_7': 4036.691944191916, 'x_num_8': 746.1721714014808, 'x_num_9': 9883.587151432585, 'x_num_10': 6974.8824543031815, 'x_num_11': 10370.455771156263, 'x_num_12': 1925.5003469917492, 'x_num_13': 2540.2469261561473, 'x_num_14': 8891.375611820069, 'x_num_15': 2711.1234692605703} 20\n"
     ]
    }
   ],
   "source": [
    "for (X, y) in datastream.take(5):\n",
    "    print(X, y)"
   ]
  },
  {
   "cell_type": "markdown",
   "metadata": {},
   "source": [
    "In the next example, we plot the data drawn from the stream to show the different concepts.\n",
    "In order to do this, we use a special `GaussianGenerator`, where each observation has a uniform random X, and a y drawn from a normal distribution specified per concept. (Note: This generator is useful for examples, and not much else.)\n",
    "\n",
    "By plotting the y values drawn from the stream, with the observation number on the x axis, we can see how each observation is drawn from different distributions over the course of the stream."
   ]
  },
  {
   "cell_type": "code",
   "execution_count": 14,
   "metadata": {},
   "outputs": [
    {
     "data": {
      "image/png": "[encoded data removed]",
      "text/plain": [
       "<Figure size 1500x150 with 1 Axes>"
      ]
     },
     "metadata": {},
     "output_type": "display_data"
    },
    {
     "data": {
      "text/plain": [
       "<matplotlib.collections.PathCollection at 0x19778a18940>"
      ]
     },
     "execution_count": 14,
     "metadata": {},
     "output_type": "execute_result"
    },
    {
     "data": {
      "image/png": "[encoded data removed]",
      "text/plain": [
       "<Figure size 640x480 with 1 Axes>"
      ]
     },
     "metadata": {},
     "output_type": "display_data"
    }
   ],
   "source": [
    "from fall.data.synthetic.gaussian import GaussianGenerator\n",
    "\n",
    "s0 = GaussianGenerator(concept=0)\n",
    "s1 = GaussianGenerator(concept=1)\n",
    "s2 = GaussianGenerator(concept=2)\n",
    "s3 = GaussianGenerator(concept=3)\n",
    "c0 = Concept(s0, \"0\")\n",
    "c1 = Concept(s1, \"1\")\n",
    "c2 = Concept(s2, \"2\")\n",
    "c3 = Concept(s3, \"3\")\n",
    "\n",
    "n_repeats = 2\n",
    "pattern = circular_transition_pattern(4, n_repeats, 1.0, 1, 0.0, shuffle_order=False)\n",
    "\n",
    "segment_length = 1000\n",
    "concept_segments = make_stream_concepts([c0, c1, c2, c3], pattern, segment_length)\n",
    "\n",
    "\n",
    "plot_ground_truth_contexts(concept_segments)\n",
    "plt.show()\n",
    "\n",
    "seed = 42\n",
    "drift_width = 0\n",
    "datastream = ConceptSegmentDataStream(concept_segments, drift_width, seed)\n",
    "\n",
    "n_samples = 4*n_repeats*1000\n",
    "y_vals = []\n",
    "for i, (X, y) in enumerate(datastream.take(n_samples)):\n",
    "    y_vals.append(y)\n",
    "\n",
    "plt.scatter(range(n_samples-1), y_vals)"
   ]
  },
  {
   "cell_type": "code",
   "execution_count": 15,
   "metadata": {},
   "outputs": [
    {
     "data": {
      "application/vnd.jupyter.widget-view+json": {
       "model_id": "ca658e03d3ef4ec6b22b74d1d8b859e6",
       "version_major": 2,
       "version_minor": 0
      },
      "text/plain": [
       "interactive(children=(IntSlider(value=0, description='drift_width', max=500), Output()), _dom_classes=('widget…"
      ]
     },
     "metadata": {},
     "output_type": "display_data"
    }
   ],
   "source": [
    "\n",
    "@widgets.interact(drift_width=(0, 500))\n",
    "def f(drift_width=0):\n",
    "    n_repeats = 2\n",
    "    seed = 42\n",
    "    s0 = GaussianGenerator(concept=0)\n",
    "    s1 = GaussianGenerator(concept=1)\n",
    "    s2 = GaussianGenerator(concept=2)\n",
    "    s3 = GaussianGenerator(concept=3)\n",
    "    c0 = Concept(s0, \"0\")\n",
    "    c1 = Concept(s1, \"1\")\n",
    "    c2 = Concept(s2, \"2\")\n",
    "    c3 = Concept(s3, \"3\")\n",
    "    pattern = circular_transition_pattern(4, n_repeats, 1.0, 1, 1.0, shuffle_order=False, seed=seed)\n",
    "\n",
    "    segment_lengths=(np.random.default_rng(seed).standard_normal(4*2) * 250) + 750\n",
    "    print(segment_lengths)\n",
    "    concept_segments = make_stream_concepts([c0, c1, c2, c3], pattern, segment_length, segment_lengths=segment_lengths)\n",
    "\n",
    "    plot_ground_truth_contexts(concept_segments)\n",
    "    plt.show()\n",
    "\n",
    "    \n",
    "    datastream = ConceptSegmentDataStream(concept_segments, drift_width, seed)\n",
    "\n",
    "    n_samples = int(sum([min(l, segment_length) for l in segment_lengths]))\n",
    "    y_vals = []\n",
    "    for i, (X, y) in enumerate(datastream.take(n_samples)):\n",
    "        y_vals.append(y)\n",
    "\n",
    "    print(len(y_vals), n_samples)\n",
    "    plt.scatter(range(n_samples)[:len(y_vals)], y_vals)"
   ]
  },
  {
   "cell_type": "code",
   "execution_count": null,
   "metadata": {},
   "outputs": [],
   "source": []
  }
 ],
 "metadata": {
  "kernelspec": {
   "display_name": "Python 3 (ipykernel)",
   "language": "python",
   "name": "python3"
  },
  "language_info": {
   "codemirror_mode": {
    "name": "ipython",
    "version": 3
   },
   "file_extension": ".py",
   "mimetype": "text/x-python",
   "name": "python",
   "nbconvert_exporter": "python",
   "pygments_lexer": "ipython3",
   "version": "3.9.16"
  },
  "vscode": {
   "interpreter": {
    "hash": "4380a124d1187ed69a11a639d386782f89dfb797ebc5e8b57df829e5ef1d4182"
   }
  }
 },
 "nbformat": 4,
 "nbformat_minor": 4
}
