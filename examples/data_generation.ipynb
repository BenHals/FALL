{
 "cells": [
  {
   "cell_type": "code",
   "execution_count": 1,
   "metadata": {},
   "outputs": [],
   "source": [
    "from streamselect.data.synthetic.wind_sim import WindSimGenerator"
   ]
  },
  {
   "cell_type": "code",
   "execution_count": 2,
   "metadata": {},
   "outputs": [
    {
     "name": "stdout",
     "output_type": "stream",
     "text": [
      "{'x_num_0': 2295.0, 'x_num_1': 2295.0, 'x_num_2': 2295.0, 'x_num_3': 2295.0, 'x_num_4': 2295.0, 'x_num_5': 2295.0, 'x_num_6': 2295.0, 'x_num_7': 2295.0, 'x_num_8': 2295.0, 'x_num_9': 2295.0, 'x_num_10': 2295.0, 'x_num_11': 1625.9951419858248, 'x_num_12': 2295.0, 'x_num_13': 1318.7297254588516, 'x_num_14': 1801.294252407075, 'x_num_15': 1773.6025042533813} 16\n",
      "{'x_num_0': 2295.0, 'x_num_1': 2295.0, 'x_num_2': 2295.0, 'x_num_3': 2295.0, 'x_num_4': 2295.0, 'x_num_5': 2295.0, 'x_num_6': 2295.0, 'x_num_7': 2295.0, 'x_num_8': 2295.0, 'x_num_9': 2295.0, 'x_num_10': 2295.0, 'x_num_11': 1625.9951419858248, 'x_num_12': 2295.0, 'x_num_13': 1318.7297254588516, 'x_num_14': 1801.294252407075, 'x_num_15': 1773.6025042533813} 0\n",
      "{'x_num_0': 343.79364438206363, 'x_num_1': 246.90494119891756, 'x_num_2': 716.866085527948, 'x_num_3': 181.66770212362314, 'x_num_4': 366.77210988035694, 'x_num_5': 643.2763307767681, 'x_num_6': 943.7548310623918, 'x_num_7': 200.68503948828868, 'x_num_8': 0.0, 'x_num_9': 408.73147496302187, 'x_num_10': 1160.3644586896507, 'x_num_11': 427.52520518528763, 'x_num_12': 0.0, 'x_num_13': 583.8936317984708, 'x_num_14': 710.6562772225145, 'x_num_15': 553.3624663607691} 18\n",
      "{'x_num_0': 721.1131157207082, 'x_num_1': 450.34736443277603, 'x_num_2': 0.0, 'x_num_3': 418.12936396838387, 'x_num_4': 770.058815617413, 'x_num_5': 490.4325272463147, 'x_num_6': 236.88542574083817, 'x_num_7': 459.00556131726904, 'x_num_8': 0.0, 'x_num_9': 188.2398100293372, 'x_num_10': 706.2991519716643, 'x_num_11': 275.5163732797896, 'x_num_12': 0.0, 'x_num_13': 845.0453185194433, 'x_num_14': 915.042757436538, 'x_num_15': 806.6415947013321} 4\n",
      "{'x_num_0': 349.94487856426423, 'x_num_1': 433.1268362042039, 'x_num_2': 813.8827572212246, 'x_num_3': 462.45631762210405, 'x_num_4': 373.9047315650026, 'x_num_5': 644.2607808975599, 'x_num_6': 710.6562772225145, 'x_num_7': 614.9818622949699, 'x_num_8': 0.0, 'x_num_9': 343.3438873940612, 'x_num_10': 821.3247367076704, 'x_num_11': 318.7809513203911, 'x_num_12': 0.0, 'x_num_13': 1296.0458491163279, 'x_num_14': 610.028504957692, 'x_num_15': 959.0767854796809} 14\n"
     ]
    }
   ],
   "source": [
    "stream = WindSimGenerator()\n",
    "\n",
    "for x, y in stream.take(5):\n",
    "    print(x, y)"
   ]
  }
 ],
 "metadata": {
  "kernelspec": {
   "display_name": "Python 3.9.13 ('al_package')",
   "language": "python",
   "name": "python3"
  },
  "language_info": {
   "codemirror_mode": {
    "name": "ipython",
    "version": 3
   },
   "file_extension": ".py",
   "mimetype": "text/x-python",
   "name": "python",
   "nbconvert_exporter": "python",
   "pygments_lexer": "ipython3",
   "version": "3.9.13"
  },
  "orig_nbformat": 4,
  "vscode": {
   "interpreter": {
    "hash": "4380a124d1187ed69a11a639d386782f89dfb797ebc5e8b57df829e5ef1d4182"
   }
  }
 },
 "nbformat": 4,
 "nbformat_minor": 2
}
