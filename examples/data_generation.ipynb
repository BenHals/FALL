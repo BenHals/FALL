{
 "cells": [
  {
   "cell_type": "markdown",
   "metadata": {},
   "source": [
    "# Data Stream Construction"
   ]
  },
  {
   "cell_type": "markdown",
   "metadata": {},
   "source": [
    "In order to evaluate an adaptive learning system, it is valuable to use constructed data streams with _known_ concept drift dynamics.\n",
    "FALL provides tools to construct such data streams, in order to test and evaluate adaptive learning systems."
   ]
  },
  {
   "cell_type": "markdown",
   "metadata": {},
   "source": [
    "## Data Generators\n",
    "\n",
    "The first step to constructing a data stream is the sources of observations for each concept.\n",
    "\n",
    "A data stream can be thought of as a series of contiguous segments, where within each segment observations are drawn from a stationary joint distribution, the _concept_. A data generator defines the joint distribution for a concept, and enables us to draw new observations from it.\n",
    "\n",
    "FALL follows the data generator interface defined in River, enabling the range of data generators implemented in the River package to be used seamlessly."
   ]
  },
  {
   "cell_type": "code",
   "execution_count": 61,
   "metadata": {},
   "outputs": [
    {
     "name": "stdout",
     "output_type": "stream",
     "text": [
      "{'x_num_0': 0.32478940694808855, 'x_num_1': 0.7037191868281323, 'x_num_2': 0.7366542994299876, 'x_num_3': 0.8712292549407178, 'x_num_4': 0.05270378729665759, 'x_cat_0': 0, 'x_cat_1': 0, 'x_cat_2': 3, 'x_cat_3': 1, 'x_cat_4': 3} 0\n",
      "{'x_num_0': 0.2757063253959595, 'x_num_1': 0.5663949691980011, 'x_num_2': 0.9364796173881019, 'x_num_3': 0.43439893868973256, 'x_num_4': 0.6312327811193648, 'x_cat_0': 2, 'x_cat_1': 2, 'x_cat_2': 2, 'x_cat_3': 4, 'x_cat_4': 1} 0\n",
      "{'x_num_0': 0.4428183488729549, 'x_num_1': 0.01102467220557568, 'x_num_2': 0.502540541092538, 'x_num_3': 0.12480373835609926, 'x_num_4': 0.5588931969269348, 'x_cat_0': 2, 'x_cat_1': 2, 'x_cat_2': 3, 'x_cat_3': 3, 'x_cat_4': 0} 1\n",
      "{'x_num_0': 0.9441590397723421, 'x_num_1': 0.6057323633303215, 'x_num_2': 0.22000186525201204, 'x_num_3': 0.6288181832190405, 'x_num_4': 0.6012927739472023, 'x_cat_0': 3, 'x_cat_1': 2, 'x_cat_2': 3, 'x_cat_3': 0, 'x_cat_4': 2} 0\n",
      "{'x_num_0': 0.6919690141709296, 'x_num_1': 0.8622496038205287, 'x_num_2': 0.4352501695551231, 'x_num_3': 0.5445312605705696, 'x_num_4': 0.1300008188084102, 'x_cat_0': 0, 'x_cat_1': 1, 'x_cat_2': 1, 'x_cat_3': 0, 'x_cat_4': 2} 0\n"
     ]
    }
   ],
   "source": [
    "# We can directly use synthetic data generators implemented in river.datasets.synth\n",
    "# or real datasets.\n",
    "from river.datasets.synth.random_tree import RandomTree\n",
    "\n",
    "\n",
    "random_tree_generator = RandomTree()\n",
    "\n",
    "# A data generator enables us to draw X,y samples from a joint distribution defining a concept.\n",
    "for X,y in random_tree_generator.take(5):\n",
    "    print(X, y)\n"
   ]
  },
  {
   "cell_type": "code",
   "execution_count": 62,
   "metadata": {},
   "outputs": [
    {
     "name": "stdout",
     "output_type": "stream",
     "text": [
      "{'x_num_0': 0.7870435264062948, 'x_num_1': 0.2990416322845588, 'x_num_2': 0.5987598691900524, 'x_num_3': 0.7951568297532622, 'x_num_4': 0.6917121927824087, 'x_cat_0': 3, 'x_cat_1': 2, 'x_cat_2': 2, 'x_cat_3': 4, 'x_cat_4': 2} 1\n",
      "{'x_num_0': 0.9468107372620218, 'x_num_1': 0.4618297547987429, 'x_num_2': 0.3040850821338468, 'x_num_3': 0.7979145565591663, 'x_num_4': 0.2192446258306694, 'x_cat_0': 4, 'x_cat_1': 0, 'x_cat_2': 3, 'x_cat_3': 2, 'x_cat_4': 4} 1\n",
      "{'x_num_0': 0.9810977666023422, 'x_num_1': 0.6509874871147029, 'x_num_2': 0.14651831861789388, 'x_num_3': 0.17799596276337903, 'x_num_4': 0.7026783442190986, 'x_cat_0': 4, 'x_cat_1': 1, 'x_cat_2': 4, 'x_cat_3': 0, 'x_cat_4': 2} 1\n",
      "{'x_num_0': 0.2001600580408779, 'x_num_1': 0.9642398127214302, 'x_num_2': 0.5678072370761114, 'x_num_3': 0.3866939331195941, 'x_num_4': 0.33984723448924126, 'x_cat_0': 3, 'x_cat_1': 2, 'x_cat_2': 0, 'x_cat_3': 3, 'x_cat_4': 2} 0\n",
      "{'x_num_0': 0.8897664785539655, 'x_num_1': 0.6151562384494262, 'x_num_2': 0.08942299756126049, 'x_num_3': 0.8182465670140872, 'x_num_4': 0.06227642458087301, 'x_cat_0': 1, 'x_cat_1': 3, 'x_cat_2': 2, 'x_cat_3': 0, 'x_cat_4': 2} 1\n"
     ]
    }
   ],
   "source": [
    "# In the case of the RandomTree generator, different seed values generate different\n",
    "# decision trees for labelling data, defining different decicion boundaries p(y|X)\n",
    "# and thus different concepts. p(X) is stationary.\n",
    "random_tree_generator2 = RandomTree(seed_tree=5)\n",
    "\n",
    "for X,y in random_tree_generator2.take(5):\n",
    "    print(X, y)"
   ]
  },
  {
   "cell_type": "markdown",
   "metadata": {},
   "source": [
    "### FALL data generators\n",
    "\n",
    "In order to accurately evaluate adaptive learning systems, it is important that the data we use for evaluation replicates the distributions we expect to see in the real world.\n",
    "\n",
    "FALL implements a number of data generators which accurately mimic distribution patterns seen in real-world datasets.\n",
    "For example, while many existing synthetic data generators implement change in p(y|X) between concepts, in real-world data we often see corresponding change in p(X). This is important, as it enables unsupervised methods to work. FALL implements synthetic data generators which generate concepts which change in both p(y|X) and p(X), in order to accurately test and evaluate any adaptive learning system."
   ]
  },
  {
   "cell_type": "code",
   "execution_count": 58,
   "metadata": {},
   "outputs": [
    {
     "name": "stdout",
     "output_type": "stream",
     "text": [
      "{'x_num_0': 2295.0, 'x_num_1': 2295.0, 'x_num_2': 2295.0, 'x_num_3': 2295.0, 'x_num_4': 2295.0, 'x_num_5': 2295.0, 'x_num_6': 2295.0, 'x_num_7': 2295.0, 'x_num_8': 2295.0, 'x_num_9': 2295.0, 'x_num_10': 2295.0, 'x_num_11': 1627.7906576040336, 'x_num_12': 2295.0, 'x_num_13': 1321.9335903014962, 'x_num_14': 1806.241057020603, 'x_num_15': 1746.5593113272812} 16\n",
      "{'x_num_0': 2295.0, 'x_num_1': 2295.0, 'x_num_2': 2295.0, 'x_num_3': 2295.0, 'x_num_4': 2295.0, 'x_num_5': 2295.0, 'x_num_6': 2295.0, 'x_num_7': 2295.0, 'x_num_8': 2295.0, 'x_num_9': 2295.0, 'x_num_10': 2295.0, 'x_num_11': 1627.7906576040336, 'x_num_12': 2295.0, 'x_num_13': 1321.9335903014962, 'x_num_14': 1806.241057020603, 'x_num_15': 1746.5593113272812} 0\n",
      "{'x_num_0': 407.211423824221, 'x_num_1': 219.4951328321508, 'x_num_2': 703.3868788616297, 'x_num_3': 183.61608125791906, 'x_num_4': 314.9966054436871, 'x_num_5': 516.3074095951397, 'x_num_6': 811.5507864970061, 'x_num_7': 205.18280125725084, 'x_num_8': 0.0, 'x_num_9': 452.6320755867387, 'x_num_10': 996.7406272257185, 'x_num_11': 422.56732299907355, 'x_num_12': 0.0, 'x_num_13': 400.92251507538657, 'x_num_14': 880.555255996357, 'x_num_15': 564.2675806516585} 16\n",
      "{'x_num_0': 779.7499503956778, 'x_num_1': 477.79976616220364, 'x_num_2': 0.0, 'x_num_3': 380.14126800042857, 'x_num_4': 633.7844399050044, 'x_num_5': 393.63168767298197, 'x_num_6': 293.51841866545226, 'x_num_7': 469.2928137736451, 'x_num_8': 0.0, 'x_num_9': 291.01367920358246, 'x_num_10': 676.0661366613477, 'x_num_11': 268.203764560796, 'x_num_12': 0.0, 'x_num_13': 523.3557696190112, 'x_num_14': 757.5164319167226, 'x_num_15': 821.2964511290152} 5\n",
      "{'x_num_0': 357.7878582904252, 'x_num_1': 475.21710957056314, 'x_num_2': 828.7231710618087, 'x_num_3': 383.16127145205206, 'x_num_4': 300.1039742229928, 'x_num_5': 399.0053425924394, 'x_num_6': 880.555255996357, 'x_num_7': 626.1546941409385, 'x_num_8': 0.0, 'x_num_9': 364.27354097370835, 'x_num_10': 895.4244652301963, 'x_num_11': 289.8189065202302, 'x_num_12': 0.0, 'x_num_13': 969.0007357549192, 'x_num_14': 505.01095461114835, 'x_num_15': 1049.9661444897113} 17\n"
     ]
    }
   ],
   "source": [
    "# Data generators can be found in the data.synthetic module.\n",
    "from fall.data.synthetic.wind_sim import WindSimGenerator\n",
    "\n",
    "# The interface is the same as the generators implemented in River, enabling seamless integration.\n",
    "stream = WindSimGenerator()\n",
    "\n",
    "for x, y in stream.take(5):\n",
    "    print(x, y)"
   ]
  },
  {
   "cell_type": "markdown",
   "metadata": {},
   "source": [
    "The <WindSimGenerator> simulates a real-world air pollution inference task.\n",
    "The goal is to infer the air quality levels at a central sensor, based on the current and previous readings taken from surrounding sensors.\n",
    "\n",
    "Concepts here are determined by different locations and characteristics of pollution emitters which determine how pollution is created in the environment, as well as the wind characteristics which determine how pollution is transmitted over time."
   ]
  },
  {
   "cell_type": "code",
   "execution_count": 30,
   "metadata": {},
   "outputs": [
    {
     "data": {
      "application/vnd.jupyter.widget-view+json": {
       "model_id": "6de30a88ba894b58ba0b0d9d0a7fbba2",
       "version_major": 2,
       "version_minor": 0
      },
      "text/plain": [
       "interactive(children=(IntSlider(value=1, description='x', max=1000, min=1), Output()), _dom_classes=('widget-i…"
      ]
     },
     "metadata": {},
     "output_type": "display_data"
    }
   ],
   "source": [
    "import matplotlib.pyplot as plt\n",
    "import ipywidgets as widgets\n",
    "\n",
    "stream1 = WindSimGenerator()\n",
    "stream_iter1 = iter(stream1)\n",
    "stream2 = WindSimGenerator(concept=2)\n",
    "stream_iter2 = iter(stream2)\n",
    "\n",
    "@widgets.interact(x=(1, 1000))\n",
    "def f(x=1):\n",
    "    next(stream_iter1)\n",
    "    img = stream1.get_last_image()\n",
    "    plt.imshow(img)\n",
    "    \n",
    "    next(stream_iter2)\n",
    "    img = stream2.get_last_image()\n",
    "    plt.imshow(img)\n",
    "    plt.show()"
   ]
  },
  {
   "cell_type": "markdown",
   "metadata": {},
   "source": [
    "Finally, FALL provides a `Concept` object which can be used to wrap a data generator into a reusable concept."
   ]
  },
  {
   "cell_type": "code",
   "execution_count": 31,
   "metadata": {},
   "outputs": [
    {
     "name": "stdout",
     "output_type": "stream",
     "text": [
      "{'x_num_0': 0.8468595937019865, 'x_num_1': 0.40887488987173193, 'x_num_2': 0.3286673379894628, 'x_num_3': 0.19551916257604163, 'x_num_4': 0.07401032215053505, 'x_cat_0': 1, 'x_cat_1': 1, 'x_cat_2': 1, 'x_cat_3': 4, 'x_cat_4': 3} 1\n",
      "{'x_num_0': 0.7433612056053528, 'x_num_1': 0.6169586138573764, 'x_num_2': 0.04777307609360304, 'x_num_3': 0.703591370556077, 'x_num_4': 0.7405031102130146, 'x_cat_0': 2, 'x_cat_1': 0, 'x_cat_2': 1, 'x_cat_3': 3, 'x_cat_4': 2} 0\n"
     ]
    }
   ],
   "source": [
    "from fall.data.utils import Concept\n",
    "\n",
    "data_generator = RandomTree()\n",
    "# An optional limit can be set on the number of observations able to be drawn.\n",
    "# This defaults to -1 to enable an unbounded amount of observations.\n",
    "concept = Concept(data=data_generator, name=\"c0\", max_n=-1)\n",
    "\n",
    "for (X, y) in concept.data.take(2):\n",
    "    print(X, y)"
   ]
  },
  {
   "cell_type": "markdown",
   "metadata": {},
   "source": [
    "## Concept Drift Pattern\n",
    "\n",
    "Once individual concepts have been created, the next step is to create the data stream itself.\n",
    "\n",
    "The important factor here is the pattern of concept drift that will exist in the stream. For example, will concepts reoccur? Will this recurrence be periodic, or random?\n",
    "The pattern of concept drift in the stream will have different impacts on different systems, so it is important to evaluate with patterns similar to what will occur in reality.\n",
    "\n",
    "FALL provides tools to generate different patterns which may be found in the real world."
   ]
  },
  {
   "cell_type": "code",
   "execution_count": 32,
   "metadata": {},
   "outputs": [
    {
     "data": {
      "text/plain": [
       "[0, 1, 2, 3, 0, 1, 2, 3, 0, 1, 2, 3, 0, 1, 2, 3, 0, 1, 2, 3]"
      ]
     },
     "execution_count": 32,
     "metadata": {},
     "output_type": "execute_result"
    }
   ],
   "source": [
    "from fall.data.transition_patterns import circular_transition_pattern\n",
    "\n",
    "n_repeats = 5\n",
    "pattern = circular_transition_pattern(\n",
    "    n_concepts=4,\n",
    "    n_repeats=n_repeats, \n",
    "    forward_proportion=1.0,\n",
    "    n_forward=1, \n",
    "    noise=0.0,\n",
    "    seed=42,\n",
    "    shuffle_order=False)\n",
    "\n",
    "pattern"
   ]
  },
  {
   "cell_type": "markdown",
   "metadata": {},
   "source": [
    "FALL defines a transition pattern as a list of indexes into the set of available concepts. \n",
    "\n",
    "The `circular_transition_pattern` defines a periodic concept drift pattern, where concept reoccur in a circular pattern.\n",
    "Parameters `n_concepts` and `n_repeats` define the length of the pattern, while parameters `forward_proportion`, `n_forward` and `noise` define the level of noise in the stream.\n",
    "Specifically, `n_forward` and `forward_proportion` enable the circular pattern to skip forward `n_forward` in the cycle with `forward_proportion` probability at each step, while `noise` allows uniform random transitions to any concept.\n"
   ]
  },
  {
   "cell_type": "code",
   "execution_count": 33,
   "metadata": {},
   "outputs": [
    {
     "data": {
      "application/vnd.jupyter.widget-view+json": {
       "model_id": "20319d932b354ba3a301da8c12c1487c",
       "version_major": 2,
       "version_minor": 0
      },
      "text/plain": [
       "interactive(children=(IntSlider(value=1, description='x', max=10, min=1), Output()), _dom_classes=('widget-int…"
      ]
     },
     "metadata": {},
     "output_type": "display_data"
    }
   ],
   "source": [
    "# With the forward proportion and n_forward set, the pattern is has the chance to skip forward a number of steps.\n",
    "@widgets.interact(x=(1, 10))\n",
    "def f(x=1):\n",
    "    pattern = circular_transition_pattern(\n",
    "        n_concepts=10,\n",
    "        n_repeats=3, \n",
    "        forward_proportion=1/x,\n",
    "        n_forward=x, \n",
    "        noise=0.0,\n",
    "        seed=42,\n",
    "        shuffle_order=False)\n",
    "\n",
    "    return pattern"
   ]
  },
  {
   "cell_type": "code",
   "execution_count": 52,
   "metadata": {},
   "outputs": [
    {
     "data": {
      "application/vnd.jupyter.widget-view+json": {
       "model_id": "14ea65de48d34e86995a9d7427e9d185",
       "version_major": 2,
       "version_minor": 0
      },
      "text/plain": [
       "interactive(children=(IntSlider(value=0, description='noise', max=10), Output()), _dom_classes=('widget-intera…"
      ]
     },
     "metadata": {},
     "output_type": "display_data"
    }
   ],
   "source": [
    "# With noise set to 1.0, the pattern is random not cyclic.\n",
    "@widgets.interact(noise=(0, 10))\n",
    "def f(noise=0):\n",
    "    pattern = circular_transition_pattern(\n",
    "        n_concepts=5,\n",
    "        n_repeats=4, \n",
    "        forward_proportion=1.0,\n",
    "        n_forward=1, \n",
    "        noise=0.1*noise,\n",
    "        seed=42,\n",
    "        shuffle_order=False)\n",
    "\n",
    "    return pattern"
   ]
  },
  {
   "cell_type": "markdown",
   "metadata": {},
   "source": [
    "Given the concept transition pattern, we can construct a set of `ConceptSegments`, which define contiguous segments of a data stream.\n",
    "\n",
    "Each concept segment is described by the concept id, the recurrence id, and the range of observations the segment covers."
   ]
  },
  {
   "cell_type": "code",
   "execution_count": 35,
   "metadata": {},
   "outputs": [
    {
     "data": {
      "text/plain": [
       "[0r0:0->999,\n",
       " 1r0:1000->1999,\n",
       " 2r0:2000->2999,\n",
       " 3r0:3000->3999,\n",
       " 0r1:4000->4999,\n",
       " 1r1:5000->5999,\n",
       " 2r1:6000->6999,\n",
       " 3r1:7000->7999,\n",
       " 0r2:8000->8999,\n",
       " 1r2:9000->9999,\n",
       " 2r2:10000->10999,\n",
       " 3r2:11000->11999,\n",
       " 0r3:12000->12999,\n",
       " 1r3:13000->13999,\n",
       " 2r3:14000->14999,\n",
       " 3r3:15000->15999,\n",
       " 0r4:16000->16999,\n",
       " 1r4:17000->17999,\n",
       " 2r4:18000->18999,\n",
       " 3r4:19000->19999]"
      ]
     },
     "execution_count": 35,
     "metadata": {},
     "output_type": "execute_result"
    }
   ],
   "source": [
    "from fall.data.datastream import make_stream_concepts\n",
    "s0 = WindSimGenerator(concept=0)\n",
    "s1 = WindSimGenerator(concept=1)\n",
    "s2 = WindSimGenerator(concept=2)\n",
    "s3 = WindSimGenerator(concept=3)\n",
    "c0 = Concept(s0, \"0\")\n",
    "c1 = Concept(s1, \"1\")\n",
    "c2 = Concept(s2, \"2\")\n",
    "c3 = Concept(s3, \"3\")\n",
    "\n",
    "datastream_segments = make_stream_concepts([c0, c1, c2, c3], pattern, max_segment_length=1000)\n",
    "datastream_segments"
   ]
  },
  {
   "cell_type": "markdown",
   "metadata": {},
   "source": [
    "FALL provides tools to visualize the concept segments which make up a stream created in this way."
   ]
  },
  {
   "cell_type": "code",
   "execution_count": 36,
   "metadata": {},
   "outputs": [
    {
     "data": {
      "image/png": "[encoded data removed]",
      "text/plain": [
       "<Figure size 1500x150 with 1 Axes>"
      ]
     },
     "metadata": {},
     "output_type": "display_data"
    }
   ],
   "source": [
    "from fall.evaluation.context_inference import plot_ground_truth_contexts\n",
    "\n",
    "plot_ground_truth_contexts(datastream_segments)"
   ]
  },
  {
   "cell_type": "code",
   "execution_count": 39,
   "metadata": {},
   "outputs": [
    {
     "data": {
      "application/vnd.jupyter.widget-view+json": {
       "model_id": "f6cd91ab9744421fa7fb88f2c2ddfa70",
       "version_major": 2,
       "version_minor": 0
      },
      "text/plain": [
       "interactive(children=(IntSlider(value=0, description='noise', max=10), Output()), _dom_classes=('widget-intera…"
      ]
     },
     "metadata": {},
     "output_type": "display_data"
    }
   ],
   "source": [
    "import numpy as np\n",
    "@widgets.interact(noise=(0, 10))\n",
    "def f(noise=0):\n",
    "    for i in range(3):\n",
    "        random_pattern = circular_transition_pattern(4, 5, forward_proportion=1.0, n_forward=1, noise=0.1*noise)\n",
    "        datastream_segments_random = make_stream_concepts([c0, c1, c2, c3], random_pattern, max_segment_length=1000, segment_lengths=(np.random.randn(4*5) * 250) + 750)\n",
    "        plot_ground_truth_contexts(datastream_segments_random)"
   ]
  },
  {
   "cell_type": "markdown",
   "metadata": {},
   "source": [
    "Finally, FALL defines a `ConceptSegmentDataStream` class which handles drawing a new observation from the stream based on the set of stream concepts.\n",
    "\n",
    "The `ConceptSegmentDataStream` class defines the same interface as the base data generators, so a system can consider the stream as a single source of data.\n",
    "\n",
    "The final parameter for constructing a concept segment data stream is to define the width of concept drift between segments. Concept drift can be _abrupt_ when concept drift occurs instantly, or _gradual_ where concept drift occurs over a number of observations.\n",
    "\n",
    "The `ConceptSegmentDataStream` class takes a drift width parameter, where a drift width can be specified for each drift as a list, or for all drifts as an int. If a drift width is 0 then drift will be abrupt, while if the drift width is > 0 then the drift will be gradual.\n",
    "\n",
    "Under the hood, gradual drift is specified using a sigmoid to define the probability of selecting an observation from the new concept. After `drift_width` observations, the probability is 1."
   ]
  },
  {
   "cell_type": "code",
   "execution_count": 40,
   "metadata": {},
   "outputs": [],
   "source": [
    "from fall.data.datastream import ConceptSegmentDataStream\n",
    "\n",
    "s0 = WindSimGenerator(concept=0)\n",
    "s1 = WindSimGenerator(concept=1)\n",
    "s2 = WindSimGenerator(concept=2)\n",
    "s3 = WindSimGenerator(concept=3)\n",
    "c0 = Concept(s0, \"0\")\n",
    "c1 = Concept(s1, \"1\")\n",
    "c2 = Concept(s2, \"2\")\n",
    "c3 = Concept(s3, \"3\")\n",
    "\n",
    "n_repeats = 30\n",
    "pattern = circular_transition_pattern(4, n_repeats, 1.0, 1, 0.0, shuffle_order=False)\n",
    "\n",
    "segment_length = 1000\n",
    "concept_segments = make_stream_concepts([c0, c1, c2, c3], pattern, segment_length)\n",
    "\n",
    "seed = 42\n",
    "drift_width = 0\n",
    "datastream = ConceptSegmentDataStream(concept_segments, drift_width, seed)"
   ]
  },
  {
   "cell_type": "code",
   "execution_count": 41,
   "metadata": {},
   "outputs": [
    {
     "name": "stdout",
     "output_type": "stream",
     "text": [
      "{'x_num_0': 2295.0, 'x_num_1': 2295.0, 'x_num_2': 2295.0, 'x_num_3': 2295.0, 'x_num_4': 2295.0, 'x_num_5': 2295.0, 'x_num_6': 2295.0, 'x_num_7': 2295.0, 'x_num_8': 2295.0, 'x_num_9': 2295.0, 'x_num_10': 2295.0, 'x_num_11': 4764.268315085875, 'x_num_12': 2295.0, 'x_num_13': 2435.526386208067, 'x_num_14': 4445.951641729025, 'x_num_15': 2435.327432342351} 20\n",
      "{'x_num_0': 2295.0, 'x_num_1': 2295.0, 'x_num_2': 2295.0, 'x_num_3': 2295.0, 'x_num_4': 2295.0, 'x_num_5': 2295.0, 'x_num_6': 2295.0, 'x_num_7': 2295.0, 'x_num_8': 2295.0, 'x_num_9': 2295.0, 'x_num_10': 2295.0, 'x_num_11': 4764.268315085875, 'x_num_12': 2295.0, 'x_num_13': 2435.526386208067, 'x_num_14': 4445.951641729025, 'x_num_15': 2435.327432342351} 20\n",
      "{'x_num_0': 5136.265849492218, 'x_num_1': 6337.48690207905, 'x_num_2': 7202.440571922606, 'x_num_3': 6833.9006215383, 'x_num_4': 5716.792534114902, 'x_num_5': 4853.8975688043665, 'x_num_6': 8020.757858158201, 'x_num_7': 4434.2862842959585, 'x_num_8': 653.6938530260735, 'x_num_9': 8963.257579514177, 'x_num_10': 7194.7719170774, 'x_num_11': 9177.150457144682, 'x_num_12': 2256.1611814782527, 'x_num_13': 2656.334883594115, 'x_num_14': 8466.081640005195, 'x_num_15': 2824.436056919184} 20\n",
      "{'x_num_0': 5378.140080534846, 'x_num_1': 6543.355476130358, 'x_num_2': 6643.979391283317, 'x_num_3': 6504.427139440863, 'x_num_4': 5664.944344053617, 'x_num_5': 4853.874167024772, 'x_num_6': 8546.46481676191, 'x_num_7': 4329.697849340745, 'x_num_8': 723.7330616504244, 'x_num_9': 9066.269121616218, 'x_num_10': 7871.287421955992, 'x_num_11': 9417.32758108438, 'x_num_12': 2145.3483629563157, 'x_num_13': 2834.460986681124, 'x_num_14': 7724.290839944351, 'x_num_15': 2638.5885854735848} 20\n",
      "{'x_num_0': 5458.811040744001, 'x_num_1': 6415.1998091986725, 'x_num_2': 7194.7719170774, 'x_num_3': 6868.393520313995, 'x_num_4': 5284.5186164560655, 'x_num_5': 4538.127868948127, 'x_num_6': 8161.843703928664, 'x_num_7': 4330.50158396815, 'x_num_8': 646.5998583222815, 'x_num_9': 9719.153991186071, 'x_num_10': 7740.7626183474795, 'x_num_11': 8673.583668237367, 'x_num_12': 1994.0303509036735, 'x_num_13': 3037.4912739030847, 'x_num_14': 8169.544092959954, 'x_num_15': 2499.4074335430228} 20\n"
     ]
    }
   ],
   "source": [
    "for (X, y) in datastream.take(5):\n",
    "    print(X, y)"
   ]
  },
  {
   "cell_type": "markdown",
   "metadata": {},
   "source": [
    "In the next example, we plot the data drawn from the stream to show the different concepts.\n",
    "In order to do this, we use a special `GaussianGenerator`, where each observation has a uniform random X, and a y drawn from a normal distribution specified per concept. (Note: This generator is useful for examples, and not much else.)\n",
    "\n",
    "By plotting the y values drawn from the stream, with the observation number on the x axis, we can see how each observation is drawn from different distributions over the course of the stream."
   ]
  },
  {
   "cell_type": "code",
   "execution_count": 42,
   "metadata": {},
   "outputs": [
    {
     "data": {
      "image/png": "[encoded data removed]",
      "text/plain": [
       "<Figure size 1500x150 with 1 Axes>"
      ]
     },
     "metadata": {},
     "output_type": "display_data"
    },
    {
     "data": {
      "text/plain": [
       "<matplotlib.collections.PathCollection at 0x28cb533dfa0>"
      ]
     },
     "execution_count": 42,
     "metadata": {},
     "output_type": "execute_result"
    },
    {
     "data": {
      "image/png": "[encoded data removed]",
      "text/plain": [
       "<Figure size 640x480 with 1 Axes>"
      ]
     },
     "metadata": {},
     "output_type": "display_data"
    }
   ],
   "source": [
    "from fall.data.synthetic.gaussian import GaussianGenerator\n",
    "\n",
    "s0 = GaussianGenerator(concept=0)\n",
    "s1 = GaussianGenerator(concept=1)\n",
    "s2 = GaussianGenerator(concept=2)\n",
    "s3 = GaussianGenerator(concept=3)\n",
    "c0 = Concept(s0, \"0\")\n",
    "c1 = Concept(s1, \"1\")\n",
    "c2 = Concept(s2, \"2\")\n",
    "c3 = Concept(s3, \"3\")\n",
    "\n",
    "n_repeats = 2\n",
    "pattern = circular_transition_pattern(4, n_repeats, 1.0, 1, 0.0, shuffle_order=False)\n",
    "\n",
    "segment_length = 1000\n",
    "concept_segments = make_stream_concepts([c0, c1, c2, c3], pattern, segment_length)\n",
    "\n",
    "\n",
    "plot_ground_truth_contexts(concept_segments)\n",
    "plt.show()\n",
    "\n",
    "seed = 42\n",
    "drift_width = 0\n",
    "datastream = ConceptSegmentDataStream(concept_segments, drift_width, seed)\n",
    "\n",
    "n_samples = 4*n_repeats*1000\n",
    "y_vals = []\n",
    "for i, (X, y) in enumerate(datastream.take(n_samples)):\n",
    "    y_vals.append(y)\n",
    "\n",
    "plt.scatter(range(n_samples-1), y_vals)"
   ]
  },
  {
   "cell_type": "code",
   "execution_count": 50,
   "metadata": {},
   "outputs": [
    {
     "data": {
      "application/vnd.jupyter.widget-view+json": {
       "model_id": "9384a60926204d67823d08e3c2810dc1",
       "version_major": 2,
       "version_minor": 0
      },
      "text/plain": [
       "interactive(children=(IntSlider(value=0, description='drift_width', max=500), Output()), _dom_classes=('widget…"
      ]
     },
     "metadata": {},
     "output_type": "display_data"
    }
   ],
   "source": [
    "\n",
    "@widgets.interact(drift_width=(0, 500))\n",
    "def f(drift_width=0):\n",
    "    n_repeats = 2\n",
    "    seed = 42\n",
    "    s0 = GaussianGenerator(concept=0)\n",
    "    s1 = GaussianGenerator(concept=1)\n",
    "    s2 = GaussianGenerator(concept=2)\n",
    "    s3 = GaussianGenerator(concept=3)\n",
    "    c0 = Concept(s0, \"0\")\n",
    "    c1 = Concept(s1, \"1\")\n",
    "    c2 = Concept(s2, \"2\")\n",
    "    c3 = Concept(s3, \"3\")\n",
    "    pattern = circular_transition_pattern(4, n_repeats, 1.0, 1, 1.0, shuffle_order=False, seed=seed)\n",
    "\n",
    "    segment_lengths=(np.random.default_rng(seed).standard_normal(4*2) * 250) + 750\n",
    "    print(segment_lengths)\n",
    "    concept_segments = make_stream_concepts([c0, c1, c2, c3], pattern, segment_length, segment_lengths=segment_lengths)\n",
    "\n",
    "    plot_ground_truth_contexts(concept_segments)\n",
    "    plt.show()\n",
    "\n",
    "    \n",
    "    datastream = ConceptSegmentDataStream(concept_segments, drift_width, seed)\n",
    "\n",
    "    n_samples = int(sum([min(l, segment_length) for l in segment_lengths]))\n",
    "    y_vals = []\n",
    "    for i, (X, y) in enumerate(datastream.take(n_samples)):\n",
    "        y_vals.append(y)\n",
    "\n",
    "    print(len(y_vals), n_samples)\n",
    "    plt.scatter(range(n_samples)[:len(y_vals)], y_vals)"
   ]
  }
 ],
 "metadata": {
  "kernelspec": {
   "display_name": "Python 3",
   "language": "python",
   "name": "python3"
  },
  "language_info": {
   "codemirror_mode": {
    "name": "ipython",
    "version": 3
   },
   "file_extension": ".py",
   "mimetype": "text/x-python",
   "name": "python",
   "nbconvert_exporter": "python",
   "pygments_lexer": "ipython3",
   "version": "3.9.13"
  },
  "vscode": {
   "interpreter": {
    "hash": "4380a124d1187ed69a11a639d386782f89dfb797ebc5e8b57df829e5ef1d4182"
   }
  }
 },
 "nbformat": 4,
 "nbformat_minor": 4
}
